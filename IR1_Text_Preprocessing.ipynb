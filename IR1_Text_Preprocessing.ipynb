{
 "cells": [
  {
   "cell_type": "markdown",
   "id": "e7d41ca0",
   "metadata": {},
   "source": [
    "### Libraries to use:\n",
    "- NLTK (Natural Language Toolkit): This library provides easy access to a collection of stopwords and stemming algorithms.\n",
    "- Stopwords: We’ll use NLTK's stopwords list.\n",
    "- Stemmer: We’ll use the PorterStemmer from NLTK"
   ]
  },
  {
   "cell_type": "code",
   "execution_count": 8,
   "id": "ae4cf53a",
   "metadata": {},
   "outputs": [
    {
     "name": "stdout",
     "output_type": "stream",
     "text": [
      "Defaulting to user installation because normal site-packages is not writeable\n",
      "Requirement already satisfied: nltk in c:\\users\\dell\\appdata\\local\\packages\\pythonsoftwarefoundation.python.3.12_qbz5n2kfra8p0\\localcache\\local-packages\\python312\\site-packages (3.9.1)\n",
      "Requirement already satisfied: click in c:\\users\\dell\\appdata\\local\\packages\\pythonsoftwarefoundation.python.3.12_qbz5n2kfra8p0\\localcache\\local-packages\\python312\\site-packages (from nltk) (8.1.7)\n",
      "Requirement already satisfied: joblib in c:\\users\\dell\\appdata\\local\\packages\\pythonsoftwarefoundation.python.3.12_qbz5n2kfra8p0\\localcache\\local-packages\\python312\\site-packages (from nltk) (1.4.2)\n",
      "Requirement already satisfied: regex>=2021.8.3 in c:\\users\\dell\\appdata\\local\\packages\\pythonsoftwarefoundation.python.3.12_qbz5n2kfra8p0\\localcache\\local-packages\\python312\\site-packages (from nltk) (2024.9.11)\n",
      "Requirement already satisfied: tqdm in c:\\users\\dell\\appdata\\local\\packages\\pythonsoftwarefoundation.python.3.12_qbz5n2kfra8p0\\localcache\\local-packages\\python312\\site-packages (from nltk) (4.66.6)\n",
      "Requirement already satisfied: colorama in c:\\users\\dell\\appdata\\local\\packages\\pythonsoftwarefoundation.python.3.12_qbz5n2kfra8p0\\localcache\\local-packages\\python312\\site-packages (from click->nltk) (0.4.6)\n",
      "Note: you may need to restart the kernel to use updated packages.\n"
     ]
    }
   ],
   "source": [
    "pip install nltk\n"
   ]
  },
  {
   "cell_type": "code",
   "execution_count": 9,
   "id": "f8166a93",
   "metadata": {},
   "outputs": [],
   "source": [
    "import nltk\n",
    "from nltk.corpus import stopwords\n",
    "from nltk.stem import PorterStemmer\n",
    "import string"
   ]
  },
  {
   "cell_type": "code",
   "execution_count": 10,
   "id": "a9947a93",
   "metadata": {},
   "outputs": [
    {
     "name": "stderr",
     "output_type": "stream",
     "text": [
      "[nltk_data] Downloading package stopwords to\n",
      "[nltk_data]     C:\\Users\\Dell\\AppData\\Roaming\\nltk_data...\n",
      "[nltk_data]   Package stopwords is already up-to-date!\n"
     ]
    },
    {
     "data": {
      "text/plain": [
       "True"
      ]
     },
     "execution_count": 10,
     "metadata": {},
     "output_type": "execute_result"
    }
   ],
   "source": [
    "#do once\n",
    "nltk.download('stopwords')"
   ]
  },
  {
   "cell_type": "code",
   "execution_count": 11,
   "id": "2e854ae1",
   "metadata": {},
   "outputs": [],
   "source": [
    "#initialize stopword list and stemmer\n",
    "stop_words=set(stopwords.words(\"english\"))\n",
    "stemmer =PorterStemmer()"
   ]
  },
  {
   "cell_type": "code",
   "execution_count": 12,
   "id": "51cb32e1",
   "metadata": {},
   "outputs": [],
   "source": [
    "#preprocess function to remove stopwords and apply stemming\n",
    "def preprocess_text(text):\n",
    "    text=text.lower() #lower case\n",
    "    \n",
    "    #remove punctuations\n",
    "    text=text.translate(str.maketrans(\"\",\"\",string.punctuation))\n",
    "    \n",
    "    tokens= text.split() #split into words\n",
    "    \n",
    "    #remove stopwords and apply stemming\n",
    "    processed_tokens= [stemmer.stem(word) for word in tokens if word not in stop_words]\n",
    "    \n",
    "    return \" \".join(processed_tokens)"
   ]
  },
  {
   "cell_type": "code",
   "execution_count": 13,
   "id": "058aeb7e",
   "metadata": {},
   "outputs": [],
   "source": [
    "document = '''Read the migration plan to Notebook 7 to learn about the new features and the actions to take if you are using extensions - Please note that updating to Notebook 7 might break some of your extensions.'''"
   ]
  },
  {
   "cell_type": "code",
   "execution_count": 14,
   "id": "015f72b7",
   "metadata": {},
   "outputs": [],
   "source": [
    "# Preprocess the document\n",
    "processed_document = preprocess_text(document)"
   ]
  },
  {
   "cell_type": "code",
   "execution_count": 15,
   "id": "9b84fe59",
   "metadata": {},
   "outputs": [
    {
     "name": "stdout",
     "output_type": "stream",
     "text": [
      "Original Document:\n",
      " Read the migration plan to Notebook 7 to learn about the new features and the actions to take if you are using extensions - Please note that updating to Notebook 7 might break some of your extensions.\n",
      "\n",
      "Processed Document:\n",
      " read migrat plan notebook 7 learn new featur action take use extens pleas note updat notebook 7 might break extens\n"
     ]
    }
   ],
   "source": [
    "# Output the original and processed text\n",
    "print(\"Original Document:\\n\", document)\n",
    "print(\"\\nProcessed Document:\\n\", processed_document)"
   ]
  },
  {
   "cell_type": "code",
   "execution_count": null,
   "id": "256bed97",
   "metadata": {},
   "outputs": [],
   "source": []
  },
  {
   "cell_type": "code",
   "execution_count": null,
   "id": "a937916f-389b-4d8b-aa3b-2b5ea15d69d0",
   "metadata": {},
   "outputs": [],
   "source": []
  },
  {
   "cell_type": "code",
   "execution_count": null,
   "id": "8803779c-57f3-4a92-89c3-fd7e2fdefb9a",
   "metadata": {},
   "outputs": [],
   "source": []
  }
 ],
 "metadata": {
  "kernelspec": {
   "display_name": "Python 3 (ipykernel)",
   "language": "python",
   "name": "python3"
  },
  "language_info": {
   "codemirror_mode": {
    "name": "ipython",
    "version": 3
   },
   "file_extension": ".py",
   "mimetype": "text/x-python",
   "name": "python",
   "nbconvert_exporter": "python",
   "pygments_lexer": "ipython3",
   "version": "3.12.7"
  }
 },
 "nbformat": 4,
 "nbformat_minor": 5
}
