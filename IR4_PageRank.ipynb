{
 "cells": [
  {
   "cell_type": "code",
   "execution_count": 3,
   "id": "61c07f50",
   "metadata": {},
   "outputs": [
    {
     "name": "stdout",
     "output_type": "stream",
     "text": [
      "PageRank: [0.36403353 0.19221389 0.32456132 0.11919126]\n"
     ]
    }
   ],
   "source": [
    "import numpy as np\n",
    "\n",
    "def pagerank(adj_matrix, damping_factor=0.85, max_iters=100, tol=1.0e-6):\n",
    "   \n",
    "    n = adj_matrix.shape[0]\n",
    "    \n",
    "    # Create a stochastic matrix by dividing each column by the sum of the column\n",
    "    column_sums = np.sum(adj_matrix, axis=0)\n",
    "    stochastic_matrix = np.divide(adj_matrix, column_sums, where=column_sums!=0)\n",
    "\n",
    "    # Initialize PageRank vector with equal probability for each page\n",
    "    page_rank = np.ones(n) / n\n",
    "    \n",
    "    # Iterative calculation of PageRank\n",
    "    for _ in range(max_iters):\n",
    "        new_page_rank = ((1 - damping_factor) / n) + damping_factor * stochastic_matrix.dot(page_rank)\n",
    "        \n",
    "        # Check for convergence\n",
    "        if np.linalg.norm(new_page_rank - page_rank, 1) < tol:\n",
    "            break\n",
    "        page_rank = new_page_rank\n",
    "    \n",
    "    return page_rank\n",
    "\n",
    "# Example adjacency matrix representing 4 pages\n",
    "# Page 1 -> Page 2, Page 1 -> Page 3\n",
    "# Page 2 -> Page 3, Page 2 -> Page 4\n",
    "# Page 3 -> Page 1\n",
    "# Page 4 -> Page 1, Page 4 -> Page 3\n",
    "adj_matrix = np.array([[0, 0, 1, 1],\n",
    "                       [1, 0, 0, 0],\n",
    "                       [1, 1, 0, 1],\n",
    "                       [0, 1, 0, 0]])\n",
    "\n",
    "# Calculate PageRank\n",
    "page_rank = pagerank(adj_matrix)\n",
    "print(\"PageRank:\", page_rank)\n"
   ]
  },
  {
   "cell_type": "code",
   "execution_count": null,
   "id": "df01de30",
   "metadata": {},
   "outputs": [],
   "source": []
  }
 ],
 "metadata": {
  "kernelspec": {
   "display_name": "Python 3 (ipykernel)",
   "language": "python",
   "name": "python3"
  },
  "language_info": {
   "codemirror_mode": {
    "name": "ipython",
    "version": 3
   },
   "file_extension": ".py",
   "mimetype": "text/x-python",
   "name": "python",
   "nbconvert_exporter": "python",
   "pygments_lexer": "ipython3",
   "version": "3.12.7"
  }
 },
 "nbformat": 4,
 "nbformat_minor": 5
}
