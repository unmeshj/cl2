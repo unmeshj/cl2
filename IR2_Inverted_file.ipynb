{
 "cells": [
  {
   "cell_type": "code",
   "execution_count": 3,
   "id": "03b3c743",
   "metadata": {},
   "outputs": [
    {
     "name": "stdout",
     "output_type": "stream",
     "text": [
      "Inverted Index:\n",
      "quick -> Document 1\n",
      "jumped -> Document 1\n",
      "dog -> Document 1, Document 2\n",
      "over -> Document 1\n",
      ". -> Document 1, Document 2\n",
      "sun -> Document 2\n",
      "slept -> Document 2\n",
      "fox -> Document 1\n",
      "the -> Document 1, Document 2\n",
      "in -> Document 2\n",
      "brown -> Document 1\n",
      "lazy -> Document 1, Document 2\n"
     ]
    },
    {
     "name": "stdin",
     "output_type": "stream",
     "text": [
      "\n",
      "Enter your search query:  sun\n"
     ]
    },
    {
     "name": "stdout",
     "output_type": "stream",
     "text": [
      "\n",
      "Documents matching the query:\n",
      "Document 2\n"
     ]
    }
   ],
   "source": [
    "\n",
    "document1 = \"The quick brown fox jumped over the lazy dog .\"\n",
    "document2 = \"The lazy dog slept in the sun .\"\n",
    "\n",
    "\n",
    "tokens1 = document1.lower().split()\n",
    "tokens2 = document2.lower().split()\n",
    "\n",
    "\n",
    "terms = list(set(tokens1 + tokens2))\n",
    "\n",
    "\n",
    "inverted_index = {}\n",
    "\n",
    "\n",
    "for term in terms:\n",
    "    documents = []\n",
    "    if term in tokens1:\n",
    "        documents.append(\"Document 1\")\n",
    "    if term in tokens2:\n",
    "        documents.append(\"Document 2\")\n",
    "    inverted_index[term] = documents\n",
    "\n",
    "\n",
    "print(\"Inverted Index:\")\n",
    "for term, documents in inverted_index.items():\n",
    "    print(term, \"->\", \", \".join(documents))\n",
    "\n",
    "\n",
    "query = input(\"\\nEnter your search query: \").lower()  \n",
    "query_terms = query.split()  \n",
    "\n",
    "\n",
    "result_docs = set()  \n",
    "\n",
    "for term in query_terms:\n",
    "    if term in inverted_index:\n",
    "        result_docs.update(inverted_index[term]) \n",
    "\n",
    "\n",
    "if result_docs:\n",
    "    print(\"\\nDocuments matching the query:\")\n",
    "    for doc in result_docs:\n",
    "        print(doc)\n",
    "else:\n",
    "    print(\"\\nNo documents found for the query.\")\n"
   ]
  },
  {
   "cell_type": "code",
   "execution_count": null,
   "id": "ae9bc0bf",
   "metadata": {},
   "outputs": [],
   "source": []
  }
 ],
 "metadata": {
  "kernelspec": {
   "display_name": "Python 3 (ipykernel)",
   "language": "python",
   "name": "python3"
  },
  "language_info": {
   "codemirror_mode": {
    "name": "ipython",
    "version": 3
   },
   "file_extension": ".py",
   "mimetype": "text/x-python",
   "name": "python",
   "nbconvert_exporter": "python",
   "pygments_lexer": "ipython3",
   "version": "3.12.7"
  }
 },
 "nbformat": 4,
 "nbformat_minor": 5
}
